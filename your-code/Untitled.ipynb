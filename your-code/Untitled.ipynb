{
 "cells": [
  {
   "cell_type": "code",
   "execution_count": null,
   "metadata": {},
   "outputs": [],
   "source": [
    "corpus = [array.fromfile(i, n) for i in docs]\n",
    "print(corpus)\n",
    "\n",
    "from numpy import empty\n",
    "a = empty([3,3])\n",
    "print(a\n",
    "      \n",
    "for i in docs:\n",
    "    text_file = open(\"i\", \"r\")\n",
    "    lines = text_file.readlines()\n",
    "    print(lines)\n",
    "    text_file.close()\n",
    "      \n",
    "corpus = np.chararray(())\n",
    "\n",
    "docs = ['doc1.txt', 'doc2.txt', 'doc3.txt']\n",
    "files = {}\n",
    " \n",
    "for filename in docs:\n",
    "    with open(filename, \"r\") as file:\n",
    "        files[filename] = file.read()\n",
    " \n",
    "for filename, text in files.items():\n",
    "    corpus.add(text)\n",
    "\n",
    "print(corpus)"
   ]
  }
 ],
 "metadata": {
  "kernelspec": {
   "display_name": "Python 3",
   "language": "python",
   "name": "python3"
  },
  "language_info": {
   "codemirror_mode": {
    "name": "ipython",
    "version": 3
   },
   "file_extension": ".py",
   "mimetype": "text/x-python",
   "name": "python",
   "nbconvert_exporter": "python",
   "pygments_lexer": "ipython3",
   "version": "3.7.4"
  }
 },
 "nbformat": 4,
 "nbformat_minor": 2
}
