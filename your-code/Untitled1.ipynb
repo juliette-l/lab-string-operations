{
 "cells": [
  {
   "cell_type": "code",
   "execution_count": null,
   "metadata": {},
   "outputs": [],
   "source": [
    "numpy load text\n",
    "#import numpy as np\n",
    "\n",
    "#docs = ['doc1.txt', 'doc2.txt', 'doc3.txt']\n",
    "\n",
    "#for doc in docs:\n",
    "    #corpus = np.loadtxt(doc, dtype = str)\n",
    "    \n",
    "#print(corpus)\n",
    "\n",
    "import string\n",
    "corpus_3 = [\"\".join( j.lower() for j in i if j not in string.punctuation) for i in corpus]\n",
    "\n",
    "print(corpus_3)\n",
    "\n",
    "\n",
    "for j in corpus_2:\n",
    "    k = j.split()\n",
    "    for l in k:\n",
    "        if l not in bag_of_words:\n",
    "            bag_of_words.append(l)\n",
    "print(bag_of_words)"
   ]
  }
 ],
 "metadata": {
  "kernelspec": {
   "display_name": "Python 3",
   "language": "python",
   "name": "python3"
  },
  "language_info": {
   "codemirror_mode": {
    "name": "ipython",
    "version": 3
   },
   "file_extension": ".py",
   "mimetype": "text/x-python",
   "name": "python",
   "nbconvert_exporter": "python",
   "pygments_lexer": "ipython3",
   "version": "3.7.4"
  }
 },
 "nbformat": 4,
 "nbformat_minor": 2
}
